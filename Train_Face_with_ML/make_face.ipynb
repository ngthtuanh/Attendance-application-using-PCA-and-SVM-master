{
 "cells": [
  {
   "cell_type": "code",
   "execution_count": null,
   "metadata": {},
   "outputs": [],
   "source": [
    "import numpy as np\n",
    "import pandas as pd\n",
    "import sklearn\n",
    "import pickle\n",
    "\n",
    "import matplotlib.pyplot as plt\n",
    "import cv2"
   ]
  },
  {
   "cell_type": "code",
   "execution_count": null,
   "metadata": {},
   "outputs": [],
   "source": [
    "#load all model\n",
    "haar = cv2.CascadeClassifier('./model/haarcascade_frontalface_default.xml')\n",
    "model_svm = pickle.load(open('./model/model_svm.pickle','rb'))\n",
    "pca_models = pickle.load(open('./model/cpa_dict_face.pickle','rb'))"
   ]
  },
  {
   "cell_type": "code",
   "execution_count": null,
   "metadata": {},
   "outputs": [],
   "source": [
    "model_pca = pca_models['pca']\n",
    "mean_face_arr = pca_models['mean_face']"
   ]
  },
  {
   "cell_type": "code",
   "execution_count": null,
   "metadata": {},
   "outputs": [],
   "source": [
    "# step-01: read image\n",
    "img = cv2.imread('./test_HV.jpg') #RGB\n",
    "#step-02: convert into gray scale\n",
    "gray = cv2.cvtColor(img,cv2.COLOR_BGR2GRAY)\n",
    "#crop the face\n",
    "faces = haar.detectMultiScale(gray,1.5,3)\n",
    "predictions = []\n",
    "for x,y,w,h in faces:\n",
    "    #cv2.rectangle(img, (x, y), (x+w, y+h), (0, 225, 0), 2)\n",
    "    roi = gray[y:y+h, x:x+w]\n",
    "    #nomalization(0-1)\n",
    "    roi = roi/255.0\n",
    "    #step-05: resize image(100x100)\n",
    "    if roi.shape[1] > 100:\n",
    "        roi_resize = cv2.resize(roi,(100,100),cv2.INTER_AREA)\n",
    "    else:\n",
    "        roi_resize = cv2.resize(roi,(100,100),cv2.INTER_CUBIC)\n",
    "    #Step-06: Flattening(1x10000)\n",
    "    roi_reshape = roi_resize.reshape(1,10000)\n",
    "    #Step-07: Subtract with mean\n",
    "    roi_mean = roi_reshape - mean_face_arr\n",
    "    #Step-08: get eigen image\n",
    "    eigen_image = model_pca.transform(roi_mean)\n",
    "    #Step-09: eigent image for visualization\n",
    "    eig_img = model_pca.inverse_transform(eigen_image)\n",
    "    #Step-10: Pass to ml model (svm) and get predictions\n",
    "    results = model_svm.predict(eigen_image)\n",
    "    prob_score = model_svm.predict_proba(eigen_image)\n",
    "    prob_score_max = prob_score.max()\n",
    "\n",
    "    print(results,prob_score)\n",
    "    # Step-11: generate report\n",
    "    text = \"%s: %d\" % (results[0], prob_score_max * 100)\n",
    "    color = (255, 0, 255)\n",
    "    # Correct way to draw the rectangle\n",
    "    cv2.rectangle(img, (x, y), (x + w, y + h), color, 2)\n",
    "    # Use cv2.putText to add text to the image\n",
    "    cv2.putText(img, text, (x, y), cv2.FONT_HERSHEY_PLAIN, 1, (255, 255, 255), 2)\n",
    "    output = {\n",
    "        'roi':roi,\n",
    "        'eig_img':eig_img,\n",
    "        'prediction_name':results[0],\n",
    "        'score':prob_score_max\n",
    "    }\n",
    "    predictions.append(output)\n"
   ]
  },
  {
   "cell_type": "code",
   "execution_count": null,
   "metadata": {},
   "outputs": [],
   "source": [
    "img_rgb = cv2.cvtColor(img,cv2.COLOR_BGR2RGB)\n",
    "\n",
    "plt.figure(figsize=(10,10))\n",
    "plt.imshow(img_rgb)\n",
    "plt.axis('off')\n",
    "plt.show()\n",
    "#generate report\n",
    "for i in range(len(predictions)):\n",
    "    obj_gray = predictions[i]['roi'] #gray scale\n",
    "    obj_eig = predictions[i]['eig_img'].reshape(100,100) # eigen image\n",
    "    plt.subplot(1,2,1)\n",
    "    plt.imshow(obj_gray,cmap='gray')\n",
    "    plt.title('Gray ScaleImage')\n",
    "    plt.axis('off')\n",
    "    plt.subplot(1,2,2)\n",
    "    plt.imshow(obj_eig,cmap='gray')\n",
    "    plt.title('Eigen Image')\n",
    "    plt.axis('off')\n",
    "\n",
    "    plt.show()\n",
    "    print('Predicted Name =',predictions[i]['prediction_name'])\n",
    "    print('predicted score ={:,.2f} %'.format(predictions[i]['score']*100))\n",
    "    print('-'*100)"
   ]
  }
 ],
 "metadata": {
  "kernelspec": {
   "display_name": "base",
   "language": "python",
   "name": "python3"
  },
  "language_info": {
   "codemirror_mode": {
    "name": "ipython",
    "version": 3
   },
   "file_extension": ".py",
   "mimetype": "text/x-python",
   "name": "python",
   "nbconvert_exporter": "python",
   "pygments_lexer": "ipython3",
   "version": "3.12.4"
  }
 },
 "nbformat": 4,
 "nbformat_minor": 2
}
